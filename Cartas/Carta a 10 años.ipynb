{
 "cells": [
  {
   "cell_type": "markdown",
   "id": "5a52ea2a",
   "metadata": {},
   "source": [
    "# Carta dentro de 10 años"
   ]
  },
  {
   "cell_type": "code",
   "execution_count": 1,
   "id": "a6e3b7f5",
   "metadata": {},
   "outputs": [],
   "source": [
    "Nombre = 'Daniel Cervantes'"
   ]
  },
  {
   "cell_type": "code",
   "execution_count": 2,
   "id": "6ac65757",
   "metadata": {},
   "outputs": [],
   "source": [
    "trabajo = 'ciencia de datos'"
   ]
  },
  {
   "cell_type": "code",
   "execution_count": 3,
   "id": "691d18bc",
   "metadata": {},
   "outputs": [],
   "source": [
    "# salario = de 6 a 9 millones"
   ]
  },
  {
   "cell_type": "code",
   "execution_count": 4,
   "id": "e08f11c5",
   "metadata": {},
   "outputs": [
    {
     "name": "stdout",
     "output_type": "stream",
     "text": [
      "Escriba el salario = 6000000\n"
     ]
    }
   ],
   "source": [
    "#salario = 6000000\n",
    "cuanto_ganaras = int(input ('Escriba el salario = '))"
   ]
  },
  {
   "cell_type": "code",
   "execution_count": 5,
   "id": "cf37044e",
   "metadata": {},
   "outputs": [
    {
     "name": "stdout",
     "output_type": "stream",
     "text": [
      "Escriba a cuanto aspiras siendo optimista  = 9000000\n"
     ]
    }
   ],
   "source": [
    "#salario = 9000000\n",
    "cuanto_optimista = int(input ('Escriba a cuanto aspiras siendo optimista  = '))"
   ]
  },
  {
   "cell_type": "code",
   "execution_count": 6,
   "id": "894b0f8a",
   "metadata": {},
   "outputs": [
    {
     "name": "stdout",
     "output_type": "stream",
     "text": [
      "Hola Daniel Cervantes ¿como estas?, espero que bien. El motivo por el que te escribo es para saber como nos ha ido, para saber si podemos trabajar del ciencia de datos tambien espero que podamos lograr cosas con nuestra vida y saber si podemos subsistir, ¿cual es el salario que tenemos? segun creo debemos estar ganando alrededor de 6000000 pero bueno, siendo un poco optimista podria estar ganado un salario de 9000000\n"
     ]
    }
   ],
   "source": [
    "print('Hola', Nombre, '¿como estas?, espero que bien. El motivo por el que te escribo es para saber como nos ha ido, para saber si podemos trabajar del', trabajo, 'tambien espero que podamos lograr cosas con nuestra vida y saber si podemos subsistir, ¿cual es el salario que tenemos? segun creo debemos estar ganando alrededor de', cuanto_ganaras, 'pero bueno, siendo un poco optimista podria estar ganado un salario de', cuanto_optimista)"
   ]
  },
  {
   "cell_type": "code",
   "execution_count": 7,
   "id": "4ea88e3b",
   "metadata": {},
   "outputs": [
    {
     "name": "stdout",
     "output_type": "stream",
     "text": [
      "Hola Daniel Cervantes ¿como estas?, espero que bien. El motivo por el que te escribo es para saber como nos ha ido, para saber si podemos trabajar del ciencia de datos tambien espero que podamos lograr cosas con nuestra vida y saber si podemos subsistir, ¿cual es el salario que tenemos? segun creo debemos estar ganando alrededor de 6000000 pero bueno, siendo un poco optimista podria estar ganado un salario de 9000000\n"
     ]
    }
   ],
   "source": [
    "print('Hola {} ¿como estas?, espero que bien. El motivo por el que te escribo es para saber como nos ha ido, para saber si podemos trabajar del {} tambien espero que podamos lograr cosas con nuestra vida y saber si podemos subsistir, ¿cual es el salario que tenemos? segun creo debemos estar ganando alrededor de {} pero bueno, siendo un poco optimista podria estar ganado un salario de {}'.format(Nombre,trabajo,cuanto_ganaras,cuanto_optimista))"
   ]
  },
  {
   "cell_type": "code",
   "execution_count": 8,
   "id": "2ecd2d5a",
   "metadata": {},
   "outputs": [
    {
     "name": "stdout",
     "output_type": "stream",
     "text": [
      "Carta a 10 años+++++++++++++++++++++++++++++++++++++++++++++++++++++++++++++++++++++++++++\n",
      "Hola Daniel Cervantes ¿como estas?, espero que bien. El motivo por el que te escribo es para saber como nos ha ido, para saber si podemos trabajar del ciencia de datos tambien espero que podamos lograr cosas con nuestra vida y saber si podemos subsistir, ¿cual es el salario que tenemos? segun creo debemos estar ganando alrededor de 6000000 pero bueno, siendo un poco optimista podria estar ganado un salario de 9000000\n"
     ]
    }
   ],
   "source": [
    "print('Carta a 10 años'.ljust(90,'+'))\n",
    "print('Hola', Nombre, '¿como estas?, espero que bien. El motivo por el que te escribo es para saber como nos ha ido, para saber si podemos trabajar del', trabajo, 'tambien espero que podamos lograr cosas con nuestra vida y saber si podemos subsistir, ¿cual es el salario que tenemos? segun creo debemos estar ganando alrededor de', cuanto_ganaras, 'pero bueno, siendo un poco optimista podria estar ganado un salario de', cuanto_optimista)"
   ]
  },
  {
   "cell_type": "code",
   "execution_count": 9,
   "id": "0e997791",
   "metadata": {},
   "outputs": [
    {
     "name": "stdout",
     "output_type": "stream",
     "text": [
      "_____________________________________________________________________________________Carta a 10 años\n",
      "Hola Daniel Cervantes ¿como estas?, espero que bien. El motivo por el que te escribo es para saber como nos ha ido, para saber si podemos trabajar del ciencia de datos tambien espero que podamos lograr cosas con nuestra vida y saber si podemos subsistir, ¿cual es el salario que tenemos? segun creo debemos estar ganando alrededor de 6000000 pero bueno, siendo un poco optimista podria estar ganado un salario de 9000000\n"
     ]
    }
   ],
   "source": [
    "print('Carta a 10 años'.rjust(100,'_'))\n",
    "print('Hola {} ¿como estas?, espero que bien. El motivo por el que te escribo es para saber como nos ha ido, para saber si podemos trabajar del {} tambien espero que podamos lograr cosas con nuestra vida y saber si podemos subsistir, ¿cual es el salario que tenemos? segun creo debemos estar ganando alrededor de {} pero bueno, siendo un poco optimista podria estar ganado un salario de {}'.format(Nombre,trabajo,cuanto_ganaras,cuanto_optimista))"
   ]
  }
 ],
 "metadata": {
  "kernelspec": {
   "display_name": "Python 3 (ipykernel)",
   "language": "python",
   "name": "python3"
  },
  "language_info": {
   "codemirror_mode": {
    "name": "ipython",
    "version": 3
   },
   "file_extension": ".py",
   "mimetype": "text/x-python",
   "name": "python",
   "nbconvert_exporter": "python",
   "pygments_lexer": "ipython3",
   "version": "3.9.7"
  }
 },
 "nbformat": 4,
 "nbformat_minor": 5
}
