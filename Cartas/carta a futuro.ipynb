{
 "cells": [
  {
   "cell_type": "markdown",
   "id": "46b10afd",
   "metadata": {},
   "source": [
    "# Carta a Futuro "
   ]
  },
  {
   "cell_type": "code",
   "execution_count": 1,
   "id": "1ecedaa4",
   "metadata": {},
   "outputs": [],
   "source": [
    "Nombre = 'Daniel Cervantes'"
   ]
  },
  {
   "cell_type": "code",
   "execution_count": 2,
   "id": "072a3f25",
   "metadata": {},
   "outputs": [],
   "source": [
    "edad = 17"
   ]
  },
  {
   "cell_type": "code",
   "execution_count": 3,
   "id": "94a9365a",
   "metadata": {},
   "outputs": [
    {
     "name": "stdout",
     "output_type": "stream",
     "text": [
      "La edad que tengas = 18.\n"
     ]
    }
   ],
   "source": [
    "# Imput = 18.\n",
    "edad_a_futuro = input('La edad que tengas = ')"
   ]
  },
  {
   "cell_type": "code",
   "execution_count": 4,
   "id": "ca1a09d2",
   "metadata": {},
   "outputs": [],
   "source": [
    "porcentaje = '100%'"
   ]
  },
  {
   "cell_type": "code",
   "execution_count": 5,
   "id": "0135bb0d",
   "metadata": {},
   "outputs": [
    {
     "name": "stdout",
     "output_type": "stream",
     "text": [
      "Hola Daniel Cervantes te escribo desde cuando tenias 17 espero que nos este llendo bien, independientemente si tienes mi edad o 18. Ya habras pasado mucho tiempo en la universidad, ¿como iras con notas? por tu bien espero que bien. Reuerda, tu puedes, siempre puedas dar más del 100% da siempre lo mejor de ti porque se que puedes.\n"
     ]
    }
   ],
   "source": [
    "print('Hola', Nombre, 'te escribo desde cuando tenias',edad, 'espero que nos este llendo bien, independientemente si tienes mi edad o', edad_a_futuro,'Ya habras pasado mucho tiempo en la universidad, ¿como iras con notas? por tu bien espero que bien. Reuerda, tu puedes, siempre puedas dar más del', porcentaje, 'da siempre lo mejor de ti porque se que puedes.')"
   ]
  },
  {
   "cell_type": "code",
   "execution_count": 6,
   "id": "b75b17c6",
   "metadata": {},
   "outputs": [
    {
     "name": "stdout",
     "output_type": "stream",
     "text": [
      "Hola Daniel Cervantes te escribo desde cuando tenias 17 espero que nos este llendo bien, independientemente si tienes mi edad o 18. Ya habras pasado mucho tiempo en la universidad, ¿como iras con notas? por tu bien espero que bien. Reuerda, tu puedes, siempre puedas dar más del 100% da siempre lo mejor de ti porque se que puedes.\n"
     ]
    }
   ],
   "source": [
    "print('Hola {} te escribo desde cuando tenias {} espero que nos este llendo bien, independientemente si tienes mi edad o {} Ya habras pasado mucho tiempo en la universidad, ¿como iras con notas? por tu bien espero que bien. Reuerda, tu puedes, siempre puedas dar más del {} da siempre lo mejor de ti porque se que puedes.'.format(Nombre,edad,edad_a_futuro,porcentaje))"
   ]
  },
  {
   "cell_type": "code",
   "execution_count": 7,
   "id": "481e8667",
   "metadata": {},
   "outputs": [
    {
     "name": "stdout",
     "output_type": "stream",
     "text": [
      "-------------------------------------------------------------Carta-------------------------------------------------------------\n",
      "Hola Daniel Cervantes te escribo desde cuando tenias 17 espero que nos este llendo bien, independientemente si tienes mi edad o 18. Ya habras pasado mucho tiempo en la universidad, ¿como iras con notas? por tu bien espero que bien. Reuerda, tu puedes, siempre puedas dar más del 100% da siempre lo mejor de ti porque se que puedes.\n"
     ]
    }
   ],
   "source": [
    "print ('Carta'.center(127,'-'))\n",
    "print('Hola', Nombre, 'te escribo desde cuando tenias',edad, 'espero que nos este llendo bien, independientemente si tienes mi edad o', edad_a_futuro,'Ya habras pasado mucho tiempo en la universidad, ¿como iras con notas? por tu bien espero que bien. Reuerda, tu puedes, siempre puedas dar más del', porcentaje, 'da siempre lo mejor de ti porque se que puedes.'.ljust(40))"
   ]
  },
  {
   "cell_type": "code",
   "execution_count": 8,
   "id": "2a43e9f7",
   "metadata": {},
   "outputs": [
    {
     "name": "stdout",
     "output_type": "stream",
     "text": [
      "...................................................................................................................Carta\n",
      "Hola Daniel Cervantes te escribo desde cuando tenias 17 espero que nos este llendo bien, independientemente si tienes mi edad o 18. Ya habras pasado mucho tiempo en la universidad, ¿como iras con notas? por tu bien espero que bien. Reuerda, tu puedes, siempre puedas dar más del 100% da siempre lo mejor de ti porque se que puedes.\n"
     ]
    }
   ],
   "source": [
    "print ('Carta'.rjust(120,'.') )\n",
    "print('Hola {} te escribo desde cuando tenias {} espero que nos este llendo bien, independientemente si tienes mi edad o {} Ya habras pasado mucho tiempo en la universidad, ¿como iras con notas? por tu bien espero que bien. Reuerda, tu puedes, siempre puedas dar más del {} da siempre lo mejor de ti porque se que puedes.'.format(Nombre,edad,edad_a_futuro,porcentaje))"
   ]
  }
 ],
 "metadata": {
  "kernelspec": {
   "display_name": "Python 3 (ipykernel)",
   "language": "python",
   "name": "python3"
  },
  "language_info": {
   "codemirror_mode": {
    "name": "ipython",
    "version": 3
   },
   "file_extension": ".py",
   "mimetype": "text/x-python",
   "name": "python",
   "nbconvert_exporter": "python",
   "pygments_lexer": "ipython3",
   "version": "3.9.7"
  }
 },
 "nbformat": 4,
 "nbformat_minor": 5
}
