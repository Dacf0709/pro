{
 "cells": [
  {
   "cell_type": "markdown",
   "id": "fff3ec08",
   "metadata": {},
   "source": [
    "**Cree las siguientes funciones, con su debida documentación:**\n",
    "\n",
    "1. Cree una función que regrese como resultado el nombre de un restaurante y su NIT en una cadena de caracteres, pueden ser ficticios.\n",
    "2. Si en dicho restaurante cada persona consume en promedio 50000 haga una función que permira calcular el valor de la cuenta, en promedio, dado el número de comensales.\n",
    "3. En el total calculado en el punto anterior se incluye el impuesto al consumo, cree una función que le permita conocer el valor que debería pagar sin dicho impuesto el cual asciende al $8\\%$.\n",
    "4. Una función que tenga como argumentos de entrada nombre de una persona y cantidad de comensales, la función debe tener como respuesta un \"recibo\" en el que aparezca el nombre del restaurante, su NIT, el nombre del cliente, el valor de la factura sin impuestos y con impuestos (sug: emplee como base las funciones creadas anteriormente).\n",
    "5. Una función que permita calcular el máximo entre dos números.\n",
    "6. Una función que ordene de menor a mayor tres números.\n",
    "7. Una función que dadas 5 notas de un estudiante, le permitan calcular la definitiva de la materia (nota 1: 10%, nota 2: 20%, nota 3: 30%, nota 4: 15%, nota 5: 25%) junto a un mensaje el cual resuma el desempeño del estudiante en el curso. (*Sug*: utilice los intervalos $0\\leq x<1,\\ 1\\leq x<2,\\ 2\\leq x<3,\\ 3\\leq x<4, 4\\leq x<4.5,\\ 4.5\\leq x\\leq5 $)"
   ]
  },
  {
   "cell_type": "code",
   "execution_count": 1,
   "id": "3a92b6c3",
   "metadata": {},
   "outputs": [
    {
     "name": "stdout",
     "output_type": "stream",
     "text": [
      "Pizzass Pablo\n",
      "Nit:2929384710\n"
     ]
    }
   ],
   "source": [
    "#1\n",
    "def restaurante():\n",
    "    print('Pizzass Pablo')\n",
    "    print('Nit:2929384710')\n",
    "restaurante()"
   ]
  },
  {
   "cell_type": "code",
   "execution_count": 2,
   "id": "39d13072",
   "metadata": {},
   "outputs": [
    {
     "data": {
      "text/plain": [
       "450000"
      ]
     },
     "execution_count": 2,
     "metadata": {},
     "output_type": "execute_result"
    }
   ],
   "source": [
    "#2\n",
    "def cuenta(x):\n",
    "    y=(x*50000)\n",
    "    return (y)\n",
    "cuenta(9)"
   ]
  },
  {
   "cell_type": "code",
   "execution_count": 3,
   "id": "bab48a29",
   "metadata": {},
   "outputs": [
    {
     "data": {
      "text/plain": [
       "416666"
      ]
     },
     "execution_count": 3,
     "metadata": {},
     "output_type": "execute_result"
    }
   ],
   "source": [
    "#3\n",
    "def cuenta_sin_impuesto(x):\n",
    "    z=int((100/108)*cuenta(x))\n",
    "    return(z)\n",
    "cuenta_sin_impuesto(9)"
   ]
  },
  {
   "cell_type": "code",
   "execution_count": 4,
   "id": "73045e40",
   "metadata": {},
   "outputs": [
    {
     "name": "stdout",
     "output_type": "stream",
     "text": [
      "Nombre del cliente: Pedro Ramirez\n",
      "Pizzass Pablo\n",
      "Nit:2929384710\n",
      "Cuenta sin impuestos 416666\n",
      "Cuenta con impuestos 450000\n"
     ]
    }
   ],
   "source": [
    "#4\n",
    "def recibo(x):\n",
    "    y= input('Nombre del cliente: ')\n",
    "    a=cuenta(x)\n",
    "    c=cuenta_sin_impuesto(x)\n",
    "    print('Pizzass Pablo')\n",
    "    print('Nit:2929384710')\n",
    "    print('Cuenta sin impuestos {0}'.format(c))\n",
    "    print('Cuenta con impuestos {0}'.format(a))\n",
    "recibo(9)"
   ]
  },
  {
   "cell_type": "code",
   "execution_count": 5,
   "id": "43007daa",
   "metadata": {},
   "outputs": [
    {
     "name": "stdout",
     "output_type": "stream",
     "text": [
      "El mayor numero es 7\n"
     ]
    }
   ],
   "source": [
    "#5\n",
    "def maxymin(x,y):\n",
    "    if x>y:\n",
    "        print('El mayor numero es {}'.format(x))\n",
    "    elif y>x:\n",
    "        print('El mayor numero es {}'.format(y))\n",
    "maxymin(7,6)"
   ]
  },
  {
   "cell_type": "code",
   "execution_count": 6,
   "id": "29753bd3",
   "metadata": {},
   "outputs": [
    {
     "data": {
      "text/plain": [
       "(4, 9, 11)"
      ]
     },
     "execution_count": 6,
     "metadata": {},
     "output_type": "execute_result"
    }
   ],
   "source": [
    "#6\n",
    "def menoramayor(x,y,z):\n",
    "    if x<y:\n",
    "        if y<z:\n",
    "            return x,y,z\n",
    "        else:\n",
    "            return x,z,y\n",
    "    if y<x:\n",
    "        if x>z:\n",
    "            return  y,x,z\n",
    "        else:\n",
    "            return y,z,x\n",
    "    else:\n",
    "        if  z<y:\n",
    "            if y<x:\n",
    "                return z,x,y\n",
    "            else:\n",
    "                return z,y,x\n",
    "menoramayor(4,9,11)"
   ]
  },
  {
   "cell_type": "code",
   "execution_count": 7,
   "id": "16c390ed",
   "metadata": {},
   "outputs": [
    {
     "name": "stdout",
     "output_type": "stream",
     "text": [
      "su promedio es 4.05\n",
      "promedio alto \n"
     ]
    }
   ],
   "source": [
    "#7\n",
    "def notas(a,b,c,d,e):\n",
    "    promedio=((a*0.1)+(b*0.2)+(c*0.3)+(d*0.15)+(e*0.25))\n",
    "    print(\"su promedio es\",promedio)\n",
    "    if (promedio>0 and promedio<3):\n",
    "        print(\"pormedio bajo\")\n",
    "    elif ( promedio<4):\n",
    "        print(\"promedio basico\")\n",
    "    else:\n",
    "        print(\"promedio alto \")\n",
    "notas(3,4,5,3,4)"
   ]
  }
 ],
 "metadata": {
  "kernelspec": {
   "display_name": "Python 3 (ipykernel)",
   "language": "python",
   "name": "python3"
  },
  "language_info": {
   "codemirror_mode": {
    "name": "ipython",
    "version": 3
   },
   "file_extension": ".py",
   "mimetype": "text/x-python",
   "name": "python",
   "nbconvert_exporter": "python",
   "pygments_lexer": "ipython3",
   "version": "3.9.7"
  }
 },
 "nbformat": 4,
 "nbformat_minor": 5
}
