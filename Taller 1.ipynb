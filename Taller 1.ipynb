{
 "cells": [
  {
   "cell_type": "markdown",
   "metadata": {
    "id": "3nYORGYF_6Dh"
   },
   "source": [
    "## Punto 1\n",
    "\n",
    "\n",
    "Elabore un programa que pida números de cuatro cifras e indique si los números son capicúas o no. El programa deberá ir pidiendo números hasta que el usuario introduce ‘-1’ por teclado. El número –1 indicará la finalización de la ejecución del programa\n",
    "\n",
    "**Nota 1:** Un número capicúa es simétrico p.e. 1221 ó 25752  \n",
    "**Nota 2:** Cuando el número no es de cuatro cifras se deberá mostrar un mensaje de error por pantalla y se pedirá otro número menor que 10000. En caso de que el número sea menor de cuatro cifras se completará con ceros a la izquierda.  \n",
    "**Nota 3:** El único número negativo que se aceptará es ‘-1’ que indicará la finalización del programa. Cualquier otro número negativo, se mostrará un mensaje de error.  \n",
    "**Nota 4:** Debe indicar cuando se ingresa un caracter o valor no valido."
   ]
  },
  {
   "cell_type": "code",
   "execution_count": 1,
   "metadata": {},
   "outputs": [
    {
     "name": "stdout",
     "output_type": "stream",
     "text": [
      "Escriba un numero de 4 cifras: 1001\n",
      "1001 es capicua.\n"
     ]
    }
   ],
   "source": [
    "m=int(input('Escriba un numero de 4 cifras: '))\n",
    "if m>-2:\n",
    "    if m<1000:\n",
    "            print (\"%04d\" % (m))\n",
    "    if m<10000:\n",
    "        if str(m) == str(m)[::-1]:\n",
    "            print('%i es capicua.'%m)\n",
    "        else:\n",
    "            print('%i no es capicua.'%m)\n",
    "else:\n",
    "    print('Caracter no valido')"
   ]
  },
  {
   "cell_type": "markdown",
   "metadata": {
    "id": "lNuKPyzpeGeI"
   },
   "source": [
    "# Punto 2\n",
    "Escriba un código que le permita hallar los números primos menores a 1000.\n",
    "\n",
    "Recuerde que:\n",
    "  1. Un número primo es aquel que tiene excatamente 2 divisores.\n",
    "  2. Los candidatos para dividir al número $n$ se hallan entre $1$ y $\\sqrt{n}$."
   ]
  },
  {
   "cell_type": "code",
   "execution_count": 2,
   "metadata": {},
   "outputs": [
    {
     "name": "stdout",
     "output_type": "stream",
     "text": [
      "Escriba un numero: 2\n",
      "2 es numero primo\n"
     ]
    }
   ],
   "source": [
    "x = int(input('Escriba un numero: '))\n",
    "Pri= True\n",
    "if x<1000:\n",
    "    for i in range (2,x):\n",
    "        if x%i==0:\n",
    "            Pri=False\n",
    "            break\n",
    "    if Pri:\n",
    "        print('{} es numero primo'.format(x))\n",
    "    else: \n",
    "        print('{} no es numero primo'.format(x))\n",
    "else:\n",
    "    print('introduzca un numero menor a 1000')"
   ]
  }
 ],
 "metadata": {
  "colab": {
   "name": "Programación.ipynb",
   "provenance": []
  },
  "kernelspec": {
   "display_name": "Python 3 (ipykernel)",
   "language": "python",
   "name": "python3"
  },
  "language_info": {
   "codemirror_mode": {
    "name": "ipython",
    "version": 3
   },
   "file_extension": ".py",
   "mimetype": "text/x-python",
   "name": "python",
   "nbconvert_exporter": "python",
   "pygments_lexer": "ipython3",
   "version": "3.9.7"
  }
 },
 "nbformat": 4,
 "nbformat_minor": 1
}
