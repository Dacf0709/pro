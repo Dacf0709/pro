{
 "cells": [
  {
   "cell_type": "code",
   "execution_count": 1,
   "id": "45092791",
   "metadata": {},
   "outputs": [],
   "source": [
    "import random "
   ]
  },
  {
   "cell_type": "code",
   "execution_count": 2,
   "id": "77e64cbc",
   "metadata": {},
   "outputs": [],
   "source": [
    "class canes:\n",
    "    def __init__(self,raza,tamaño,edad,sexo,nombre):\n",
    "        self.raza=raza\n",
    "        self.tamaño=tamaño\n",
    "        self.edad=edad\n",
    "        self.sexo=sexo\n",
    "        self.nombre=nombre\n",
    "    def corra(self):\n",
    "        corre=(\"El perrito {name} de la raza {rase} salio a correr,\")\n",
    "        joven=(\" como tiene {age} años sigue con energia :)\")\n",
    "        viejo=(\" como tiene {age} años se canso muy rapido :(\")\n",
    "        if self.edad>=5:\n",
    "            print((corre.format(name=self.nombre,rase=self.raza)+viejo.format(age=self.edad)))\n",
    "        else:\n",
    "            print((corre.format(name=self.nombre,rase=self.raza)+joven.format(age=self.edad)))\n",
    "    def salte(self):\n",
    "        salto=(\"El perrito {name} de genero {sex} le gusta saltar :D, \")\n",
    "        pesao=(\"pero como mide {size} no pudo brincar mucho :/\")\n",
    "        liviano=(\"como mide {size} ya no puedes deneterlo :o\")\n",
    "        if self.tamaño>=55:\n",
    "            print((salto.format(name=self.nombre,sex=self.sexo)+pesao.format(size=self.tamaño)))\n",
    "        else:\n",
    "            print((salto.format(name=self.nombre,sex=self.sexo)+liviano.format(size=self.tamaño)))\n",
    "    def duerma(self):\n",
    "        dormir=(\"{name} esta cansado :c, como es {sex} debes dejarle dormir\")\n",
    "        print(dormir.format(name=self.nombre,sex=self.sexo))\n",
    "    def interacion(self,can2):\n",
    "        juegan=(\"Que lindos, {name1} y {name2} se pusieron a jugar :D\").format(name1=self.nombre,name2=can2.nombre)\n",
    "        pelien=(\"¡Oh no!, {name1} y {name2} se pusieron a peleear :O, ¡rapido detenlos!\").format(name1=self.nombre,name2=can2.nombre)\n",
    "        alzar=random.choice([juegan,pelien])\n",
    "        print(alzar)"
   ]
  },
  {
   "cell_type": "code",
   "execution_count": 3,
   "id": "0cada960",
   "metadata": {},
   "outputs": [],
   "source": [
    "perro1= canes(\"Labrador\",60,4,\"hombre\",\"Hades\")"
   ]
  },
  {
   "cell_type": "code",
   "execution_count": 4,
   "id": "a1a850f4",
   "metadata": {},
   "outputs": [],
   "source": [
    "perro2= canes(\"chihuahua\",20,6,\"mujer\",\"Amateratsu\")"
   ]
  },
  {
   "cell_type": "code",
   "execution_count": 5,
   "id": "59eff857",
   "metadata": {},
   "outputs": [
    {
     "name": "stdout",
     "output_type": "stream",
     "text": [
      "El perrito Hades de la raza Labrador salio a correr, como tiene 4 años sigue con energia :)\n"
     ]
    }
   ],
   "source": [
    "perro1.corra()"
   ]
  },
  {
   "cell_type": "code",
   "execution_count": 6,
   "id": "c728c28a",
   "metadata": {},
   "outputs": [
    {
     "name": "stdout",
     "output_type": "stream",
     "text": [
      "El perrito Amateratsu de la raza chihuahua salio a correr, como tiene 6 años se canso muy rapido :(\n"
     ]
    }
   ],
   "source": [
    "perro2.corra()"
   ]
  },
  {
   "cell_type": "code",
   "execution_count": 7,
   "id": "097b6538",
   "metadata": {},
   "outputs": [
    {
     "name": "stdout",
     "output_type": "stream",
     "text": [
      "El perrito Hades de genero hombre le gusta saltar :D, pero como mide 60 no pudo brincar mucho :/\n"
     ]
    }
   ],
   "source": [
    "perro1.salte()"
   ]
  },
  {
   "cell_type": "code",
   "execution_count": 8,
   "id": "2d694b73",
   "metadata": {},
   "outputs": [
    {
     "name": "stdout",
     "output_type": "stream",
     "text": [
      "El perrito Amateratsu de genero mujer le gusta saltar :D, como mide 20 ya no puedes deneterlo :o\n"
     ]
    }
   ],
   "source": [
    "perro2.salte()"
   ]
  },
  {
   "cell_type": "code",
   "execution_count": 9,
   "id": "ac2842ae",
   "metadata": {},
   "outputs": [
    {
     "name": "stdout",
     "output_type": "stream",
     "text": [
      "Hades esta cansado :c, como es hombre debes dejarle dormir\n"
     ]
    }
   ],
   "source": [
    "perro1.duerma()"
   ]
  },
  {
   "cell_type": "code",
   "execution_count": 10,
   "id": "a245180f",
   "metadata": {},
   "outputs": [
    {
     "name": "stdout",
     "output_type": "stream",
     "text": [
      "Amateratsu esta cansado :c, como es mujer debes dejarle dormir\n"
     ]
    }
   ],
   "source": [
    "perro2.duerma()"
   ]
  },
  {
   "cell_type": "code",
   "execution_count": 11,
   "id": "8a659db4",
   "metadata": {},
   "outputs": [
    {
     "name": "stdout",
     "output_type": "stream",
     "text": [
      "Que lindos, Hades y Amateratsu se pusieron a jugar :D\n"
     ]
    }
   ],
   "source": [
    "canes.interacion(perro1,perro2)"
   ]
  },
  {
   "cell_type": "code",
   "execution_count": 15,
   "id": "06c0b89e",
   "metadata": {},
   "outputs": [
    {
     "name": "stdout",
     "output_type": "stream",
     "text": [
      "¡Oh no!, Amateratsu y Hades se pusieron a peleear :O, ¡rapido detenlos!\n"
     ]
    }
   ],
   "source": [
    "canes.interacion(perro2,perro1)"
   ]
  }
 ],
 "metadata": {
  "kernelspec": {
   "display_name": "Python 3 (ipykernel)",
   "language": "python",
   "name": "python3"
  },
  "language_info": {
   "codemirror_mode": {
    "name": "ipython",
    "version": 3
   },
   "file_extension": ".py",
   "mimetype": "text/x-python",
   "name": "python",
   "nbconvert_exporter": "python",
   "pygments_lexer": "ipython3",
   "version": "3.9.7"
  }
 },
 "nbformat": 4,
 "nbformat_minor": 5
}
